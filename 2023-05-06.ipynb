{
 "cells": [
  {
   "attachments": {},
   "cell_type": "markdown",
   "metadata": {},
   "source": [
    "$$ f(x) = O(g(x)) $$\n",
    "\n",
    "x -> inf, O -> inf\n",
    "g(x) -> compx => O() "
   ]
  },
  {
   "cell_type": "code",
   "execution_count": 1,
   "metadata": {},
   "outputs": [],
   "source": [
    "# n = 10\n",
    "# -> g(x) voi x = 10\n",
    "# -> O(g(10))\n",
    "\n",
    "# O(log(n)) voi n = 10\n",
    "# log(10) = 1\n",
    "\n",
    "# O(n) voi n = 10\n",
    "# 10 = 10\n",
    "\n",
    "# "
   ]
  },
  {
   "cell_type": "code",
   "execution_count": 3,
   "metadata": {},
   "outputs": [],
   "source": [
    "# n=2\n",
    "\n",
    "# n nho, compx it\n",
    "def add(num_1, num_2):\n",
    "    return num_1 + num_2\n",
    "\n",
    "# n >>, compx\n",
    "def add(num_1, num_2, num_3, num_4):\n",
    "    return num_1 + num_2 + num_3 + num_4\n",
    "\n",
    "# n=2, compx ++\n",
    "def calc_something(num_1, num_2):\n",
    "    return (num_1**2 + 2*num_2)/3"
   ]
  },
  {
   "cell_type": "code",
   "execution_count": 4,
   "metadata": {},
   "outputs": [
    {
     "ename": "NameError",
     "evalue": "name 'N' is not defined",
     "output_type": "error",
     "traceback": [
      "\u001b[1;31m---------------------------------------------------------------------------\u001b[0m",
      "\u001b[1;31mNameError\u001b[0m                                 Traceback (most recent call last)",
      "Cell \u001b[1;32mIn[4], line 4\u001b[0m\n\u001b[0;32m      1\u001b[0m \u001b[39m# exam 1\u001b[39;00m\n\u001b[0;32m      2\u001b[0m a \u001b[39m=\u001b[39m \u001b[39m0\u001b[39m\n\u001b[1;32m----> 4\u001b[0m \u001b[39mfor\u001b[39;00m i \u001b[39min\u001b[39;00m \u001b[39mrange\u001b[39m(\u001b[39m0\u001b[39m, N):\n\u001b[0;32m      5\u001b[0m     \u001b[39mfor\u001b[39;00m j \u001b[39min\u001b[39;00m \u001b[39mrange\u001b[39m(\u001b[39m0\u001b[39m, N):\n\u001b[0;32m      6\u001b[0m         a \u001b[39m+\u001b[39m\u001b[39m=\u001b[39m i \u001b[39m*\u001b[39m j\n",
      "\u001b[1;31mNameError\u001b[0m: name 'N' is not defined"
     ]
    }
   ],
   "source": [
    "# exam 1\n",
    "a = 0\n",
    "\n",
    "for i in range(0, N):\n",
    "    for j in range(0, N):\n",
    "        a += i * j\n",
    "\n",
    "# compx = N^2"
   ]
  },
  {
   "cell_type": "code",
   "execution_count": 23,
   "metadata": {},
   "outputs": [
    {
     "name": "stdout",
     "output_type": "stream",
     "text": [
      "l=[3, 4]\n",
      "step=2\n"
     ]
    }
   ],
   "source": [
    "# exam 2\n",
    "l = []\n",
    "n = 3\n",
    "step = 0\n",
    "\n",
    "for i in range(n//2, n):\n",
    "    for j in range(2, n, pow(2,j)): # pow(2, j) mean 2^j # range(2, n, step=2^j)\n",
    "        l.append(i+j)\n",
    "        step+=1\n",
    "\n",
    "print(f\"{l=}\")\n",
    "print(f\"{step=}\")"
   ]
  },
  {
   "cell_type": "code",
   "execution_count": 6,
   "metadata": {},
   "outputs": [
    {
     "ename": "NameError",
     "evalue": "name 'N' is not defined",
     "output_type": "error",
     "traceback": [
      "\u001b[1;31m---------------------------------------------------------------------------\u001b[0m",
      "\u001b[1;31mNameError\u001b[0m                                 Traceback (most recent call last)",
      "Cell \u001b[1;32mIn[6], line 3\u001b[0m\n\u001b[0;32m      1\u001b[0m \u001b[39m# exam 3\u001b[39;00m\n\u001b[0;32m      2\u001b[0m a \u001b[39m=\u001b[39m \u001b[39m0\u001b[39m\n\u001b[1;32m----> 3\u001b[0m i \u001b[39m=\u001b[39m N\n\u001b[0;32m      5\u001b[0m \u001b[39mwhile\u001b[39;00m (i \u001b[39m>\u001b[39m \u001b[39m0\u001b[39m):\n\u001b[0;32m      6\u001b[0m     a \u001b[39m+\u001b[39m\u001b[39m=\u001b[39m i\n",
      "\u001b[1;31mNameError\u001b[0m: name 'N' is not defined"
     ]
    }
   ],
   "source": [
    "# exam 3\n",
    "a = 0\n",
    "i = N\n",
    "\n",
    "while (i > 0):\n",
    "    a += i\n",
    "    i //= 2\n"
   ]
  },
  {
   "cell_type": "code",
   "execution_count": 7,
   "metadata": {},
   "outputs": [
    {
     "name": "stdout",
     "output_type": "stream",
     "text": [
      "6\n"
     ]
    }
   ],
   "source": [
    "# exam 4\n",
    "count = 0\n",
    "step = 0\n",
    "n = 3\n",
    "\n",
    "for i in range(n//2, n+1):\n",
    "    for j in range(1, n//2 + 1):\n",
    "        for k in range(1, n+1, 2):\n",
    "            # count++\n",
    "            step+=1\n",
    "\n",
    "print(step)\n"
   ]
  }
 ],
 "metadata": {
  "kernelspec": {
   "display_name": ".venv",
   "language": "python",
   "name": "python3"
  },
  "language_info": {
   "codemirror_mode": {
    "name": "ipython",
    "version": 3
   },
   "file_extension": ".py",
   "mimetype": "text/x-python",
   "name": "python",
   "nbconvert_exporter": "python",
   "pygments_lexer": "ipython3",
   "version": "3.10.10"
  },
  "orig_nbformat": 4
 },
 "nbformat": 4,
 "nbformat_minor": 2
}
