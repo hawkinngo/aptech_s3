{
 "cells": [
  {
   "cell_type": "code",
   "execution_count": 1,
   "metadata": {},
   "outputs": [],
   "source": [
    "import pandas as pd\n",
    "import numpy as np"
   ]
  },
  {
   "cell_type": "code",
   "execution_count": 2,
   "metadata": {},
   "outputs": [
    {
     "data": {
      "text/html": [
       "<div>\n",
       "<style scoped>\n",
       "    .dataframe tbody tr th:only-of-type {\n",
       "        vertical-align: middle;\n",
       "    }\n",
       "\n",
       "    .dataframe tbody tr th {\n",
       "        vertical-align: top;\n",
       "    }\n",
       "\n",
       "    .dataframe thead th {\n",
       "        text-align: right;\n",
       "    }\n",
       "</style>\n",
       "<table border=\"1\" class=\"dataframe\">\n",
       "  <thead>\n",
       "    <tr style=\"text-align: right;\">\n",
       "      <th></th>\n",
       "      <th>Height(Inches)</th>\n",
       "      <th>Weight(Pounds)</th>\n",
       "    </tr>\n",
       "  </thead>\n",
       "  <tbody>\n",
       "    <tr>\n",
       "      <th>23319</th>\n",
       "      <td>67.77966</td>\n",
       "      <td>120.9614</td>\n",
       "    </tr>\n",
       "    <tr>\n",
       "      <th>23385</th>\n",
       "      <td>66.96798</td>\n",
       "      <td>126.7250</td>\n",
       "    </tr>\n",
       "    <tr>\n",
       "      <th>22550</th>\n",
       "      <td>64.50765</td>\n",
       "      <td>117.6468</td>\n",
       "    </tr>\n",
       "  </tbody>\n",
       "</table>\n",
       "</div>"
      ],
      "text/plain": [
       "       Height(Inches)  Weight(Pounds)\n",
       "23319        67.77966        120.9614\n",
       "23385        66.96798        126.7250\n",
       "22550        64.50765        117.6468"
      ]
     },
     "execution_count": 2,
     "metadata": {},
     "output_type": "execute_result"
    }
   ],
   "source": [
    "df_height_weight = pd.read_csv('https://raw.githubusercontent.com/panicpotatoe/dataset/master/SOCR_Data_Dinov_020108_HeightsWeights.csv')\n",
    "df_height_weight.sample(3)"
   ]
  },
  {
   "cell_type": "code",
   "execution_count": 3,
   "metadata": {},
   "outputs": [
    {
     "data": {
      "text/html": [
       "<div>\n",
       "<style scoped>\n",
       "    .dataframe tbody tr th:only-of-type {\n",
       "        vertical-align: middle;\n",
       "    }\n",
       "\n",
       "    .dataframe tbody tr th {\n",
       "        vertical-align: top;\n",
       "    }\n",
       "\n",
       "    .dataframe thead th {\n",
       "        text-align: right;\n",
       "    }\n",
       "</style>\n",
       "<table border=\"1\" class=\"dataframe\">\n",
       "  <thead>\n",
       "    <tr style=\"text-align: right;\">\n",
       "      <th></th>\n",
       "      <th>Height(Inches)</th>\n",
       "      <th>Weight(Pounds)</th>\n",
       "      <th>z-weight</th>\n",
       "      <th>z-height</th>\n",
       "    </tr>\n",
       "  </thead>\n",
       "  <tbody>\n",
       "    <tr>\n",
       "      <th>0</th>\n",
       "      <td>65.78331</td>\n",
       "      <td>112.9925</td>\n",
       "      <td>-1.208072</td>\n",
       "      <td>-1.162051</td>\n",
       "    </tr>\n",
       "    <tr>\n",
       "      <th>1</th>\n",
       "      <td>71.51521</td>\n",
       "      <td>136.4873</td>\n",
       "      <td>0.806805</td>\n",
       "      <td>1.852136</td>\n",
       "    </tr>\n",
       "    <tr>\n",
       "      <th>2</th>\n",
       "      <td>69.39874</td>\n",
       "      <td>153.0269</td>\n",
       "      <td>2.225214</td>\n",
       "      <td>0.739165</td>\n",
       "    </tr>\n",
       "    <tr>\n",
       "      <th>3</th>\n",
       "      <td>68.21660</td>\n",
       "      <td>142.3354</td>\n",
       "      <td>1.308328</td>\n",
       "      <td>0.117523</td>\n",
       "    </tr>\n",
       "    <tr>\n",
       "      <th>4</th>\n",
       "      <td>67.78781</td>\n",
       "      <td>144.2971</td>\n",
       "      <td>1.476561</td>\n",
       "      <td>-0.107961</td>\n",
       "    </tr>\n",
       "    <tr>\n",
       "      <th>...</th>\n",
       "      <td>...</td>\n",
       "      <td>...</td>\n",
       "      <td>...</td>\n",
       "      <td>...</td>\n",
       "    </tr>\n",
       "    <tr>\n",
       "      <th>24995</th>\n",
       "      <td>69.50215</td>\n",
       "      <td>118.0312</td>\n",
       "      <td>-0.775961</td>\n",
       "      <td>0.793544</td>\n",
       "    </tr>\n",
       "    <tr>\n",
       "      <th>24996</th>\n",
       "      <td>64.54826</td>\n",
       "      <td>120.1932</td>\n",
       "      <td>-0.590551</td>\n",
       "      <td>-1.811517</td>\n",
       "    </tr>\n",
       "    <tr>\n",
       "      <th>24997</th>\n",
       "      <td>64.69855</td>\n",
       "      <td>118.2655</td>\n",
       "      <td>-0.755868</td>\n",
       "      <td>-1.732485</td>\n",
       "    </tr>\n",
       "    <tr>\n",
       "      <th>24998</th>\n",
       "      <td>67.52918</td>\n",
       "      <td>132.2682</td>\n",
       "      <td>0.444981</td>\n",
       "      <td>-0.243965</td>\n",
       "    </tr>\n",
       "    <tr>\n",
       "      <th>24999</th>\n",
       "      <td>68.87761</td>\n",
       "      <td>124.8742</td>\n",
       "      <td>-0.189116</td>\n",
       "      <td>0.465123</td>\n",
       "    </tr>\n",
       "  </tbody>\n",
       "</table>\n",
       "<p>25000 rows × 4 columns</p>\n",
       "</div>"
      ],
      "text/plain": [
       "       Height(Inches)  Weight(Pounds)  z-weight  z-height\n",
       "0            65.78331        112.9925 -1.208072 -1.162051\n",
       "1            71.51521        136.4873  0.806805  1.852136\n",
       "2            69.39874        153.0269  2.225214  0.739165\n",
       "3            68.21660        142.3354  1.308328  0.117523\n",
       "4            67.78781        144.2971  1.476561 -0.107961\n",
       "...               ...             ...       ...       ...\n",
       "24995        69.50215        118.0312 -0.775961  0.793544\n",
       "24996        64.54826        120.1932 -0.590551 -1.811517\n",
       "24997        64.69855        118.2655 -0.755868 -1.732485\n",
       "24998        67.52918        132.2682  0.444981 -0.243965\n",
       "24999        68.87761        124.8742 -0.189116  0.465123\n",
       "\n",
       "[25000 rows x 4 columns]"
      ]
     },
     "execution_count": 3,
     "metadata": {},
     "output_type": "execute_result"
    }
   ],
   "source": [
    "mean_weight = np.mean(df_height_weight[\"Weight(Pounds)\"])\n",
    "std_weight = np.std(df_height_weight[\"Weight(Pounds)\"])\n",
    "\n",
    "mean_height = np.mean(df_height_weight[\"Height(Inches)\"])\n",
    "std_height = np.std(df_height_weight[\"Height(Inches)\"])\n",
    "\n",
    "df_height_weight[\"z-weight\"] = (\n",
    "    df_height_weight.loc[:, \"Weight(Pounds)\"] - mean_weight\n",
    ") / std_weight\n",
    "\n",
    "df_height_weight[\"z-height\"] = (\n",
    "    df_height_weight.loc[:, \"Height(Inches)\"] - mean_height\n",
    ") / std_height\n",
    "\n",
    "df_height_weight"
   ]
  },
  {
   "cell_type": "code",
   "execution_count": 4,
   "metadata": {},
   "outputs": [],
   "source": [
    "import matplotlib.pyplot as plt"
   ]
  },
  {
   "cell_type": "code",
   "execution_count": 5,
   "metadata": {},
   "outputs": [
    {
     "data": {
      "text/plain": [
       "(array([  2.,   0.,   0.,   0.,   1.,   2.,   2.,   2.,   1.,   3.,   4.,\n",
       "          1.,   5.,   8.,   8.,  11.,  13.,  19.,  14.,  29.,  27.,  38.,\n",
       "         35.,  56.,  77.,  72.,  89.,  98., 128., 139., 180., 197., 192.,\n",
       "        222., 282., 302., 352., 346., 424., 452., 476., 515., 556., 610.,\n",
       "        647., 618., 705., 763., 761., 746., 797., 742., 830., 819., 743.,\n",
       "        810., 760., 762., 725., 689., 699., 654., 593., 544., 507., 479.,\n",
       "        461., 396., 335., 318., 294., 258., 235., 174., 171., 159., 140.,\n",
       "        100.,  90.,  93.,  78.,  57.,  59.,  44.,  34.,  27.,  17.,  16.,\n",
       "         16.,  12.,  10.,   2.,   2.,   4.,   6.,   3.,   1.,   2.,   1.,\n",
       "          2.]),\n",
       " array([ 78.01476  ,  78.9438524,  79.8729448,  80.8020372,  81.7311296,\n",
       "         82.660222 ,  83.5893144,  84.5184068,  85.4474992,  86.3765916,\n",
       "         87.305684 ,  88.2347764,  89.1638688,  90.0929612,  91.0220536,\n",
       "         91.951146 ,  92.8802384,  93.8093308,  94.7384232,  95.6675156,\n",
       "         96.596608 ,  97.5257004,  98.4547928,  99.3838852, 100.3129776,\n",
       "        101.24207  , 102.1711624, 103.1002548, 104.0293472, 104.9584396,\n",
       "        105.887532 , 106.8166244, 107.7457168, 108.6748092, 109.6039016,\n",
       "        110.532994 , 111.4620864, 112.3911788, 113.3202712, 114.2493636,\n",
       "        115.178456 , 116.1075484, 117.0366408, 117.9657332, 118.8948256,\n",
       "        119.823918 , 120.7530104, 121.6821028, 122.6111952, 123.5402876,\n",
       "        124.46938  , 125.3984724, 126.3275648, 127.2566572, 128.1857496,\n",
       "        129.114842 , 130.0439344, 130.9730268, 131.9021192, 132.8312116,\n",
       "        133.760304 , 134.6893964, 135.6184888, 136.5475812, 137.4766736,\n",
       "        138.405766 , 139.3348584, 140.2639508, 141.1930432, 142.1221356,\n",
       "        143.051228 , 143.9803204, 144.9094128, 145.8385052, 146.7675976,\n",
       "        147.69669  , 148.6257824, 149.5548748, 150.4839672, 151.4130596,\n",
       "        152.342152 , 153.2712444, 154.2003368, 155.1294292, 156.0585216,\n",
       "        156.987614 , 157.9167064, 158.8457988, 159.7748912, 160.7039836,\n",
       "        161.633076 , 162.5621684, 163.4912608, 164.4203532, 165.3494456,\n",
       "        166.278538 , 167.2076304, 168.1367228, 169.0658152, 169.9949076,\n",
       "        170.924    ]),\n",
       " <BarContainer object of 100 artists>)"
      ]
     },
     "execution_count": 5,
     "metadata": {},
     "output_type": "execute_result"
    },
    {
     "data": {
      "image/png": "[encoded data removed]",
      "text/plain": [
       "<Figure size 640x480 with 1 Axes>"
      ]
     },
     "metadata": {},
     "output_type": "display_data"
    }
   ],
   "source": [
    "plt.hist(df_height_weight['Weight(Pounds)'], bins = 100)"
   ]
  },
  {
   "cell_type": "code",
   "execution_count": 6,
   "metadata": {},
   "outputs": [
    {
     "data": {
      "text/plain": [
       "(array([  2.,   0.,   0.,   0.,   1.,   2.,   2.,   2.,   1.,   3.,   4.,\n",
       "          1.,   5.,   8.,   8.,  11.,  13.,  19.,  14.,  29.,  27.,  38.,\n",
       "         35.,  56.,  77.,  72.,  89.,  98., 128., 139., 180., 197., 192.,\n",
       "        222., 282., 302., 352., 346., 424., 452., 476., 515., 556., 610.,\n",
       "        647., 618., 705., 763., 761., 746., 797., 742., 830., 819., 743.,\n",
       "        810., 760., 762., 725., 689., 699., 654., 593., 544., 507., 479.,\n",
       "        461., 396., 335., 318., 294., 258., 235., 174., 171., 159., 140.,\n",
       "        100.,  90.,  93.,  78.,  57.,  59.,  44.,  34.,  27.,  17.,  16.,\n",
       "         16.,  12.,  10.,   2.,   2.,   4.,   6.,   3.,   1.,   2.,   1.,\n",
       "          2.]),\n",
       " array([-4.20770719, -4.1280297 , -4.04835222, -3.96867473, -3.88899725,\n",
       "        -3.80931977, -3.72964228, -3.6499648 , -3.57028731, -3.49060983,\n",
       "        -3.41093234, -3.33125486, -3.25157738, -3.17189989, -3.09222241,\n",
       "        -3.01254492, -2.93286744, -2.85318995, -2.77351247, -2.69383499,\n",
       "        -2.6141575 , -2.53448002, -2.45480253, -2.37512505, -2.29544756,\n",
       "        -2.21577008, -2.1360926 , -2.05641511, -1.97673763, -1.89706014,\n",
       "        -1.81738266, -1.73770517, -1.65802769, -1.57835021, -1.49867272,\n",
       "        -1.41899524, -1.33931775, -1.25964027, -1.17996278, -1.1002853 ,\n",
       "        -1.02060782, -0.94093033, -0.86125285, -0.78157536, -0.70189788,\n",
       "        -0.62222039, -0.54254291, -0.46286543, -0.38318794, -0.30351046,\n",
       "        -0.22383297, -0.14415549, -0.064478  ,  0.01519948,  0.09487696,\n",
       "         0.17455445,  0.25423193,  0.33390942,  0.4135869 ,  0.49326439,\n",
       "         0.57294187,  0.65261935,  0.73229684,  0.81197432,  0.89165181,\n",
       "         0.97132929,  1.05100678,  1.13068426,  1.21036174,  1.29003923,\n",
       "         1.36971671,  1.4493942 ,  1.52907168,  1.60874917,  1.68842665,\n",
       "         1.76810413,  1.84778162,  1.9274591 ,  2.00713659,  2.08681407,\n",
       "         2.16649156,  2.24616904,  2.32584652,  2.40552401,  2.48520149,\n",
       "         2.56487898,  2.64455646,  2.72423395,  2.80391143,  2.88358891,\n",
       "         2.9632664 ,  3.04294388,  3.12262137,  3.20229885,  3.28197634,\n",
       "         3.36165382,  3.4413313 ,  3.52100879,  3.60068627,  3.68036376,\n",
       "         3.76004124]),\n",
       " <BarContainer object of 100 artists>)"
      ]
     },
     "execution_count": 6,
     "metadata": {},
     "output_type": "execute_result"
    },
    {
     "data": {
      "image/png": "[encoded data removed]",
      "text/plain": [
       "<Figure size 640x480 with 1 Axes>"
      ]
     },
     "metadata": {},
     "output_type": "display_data"
    }
   ],
   "source": [
    "plt.hist(df_height_weight['z-weight'], bins = 100)"
   ]
  },
  {
   "cell_type": "code",
   "execution_count": null,
   "metadata": {},
   "outputs": [],
   "source": []
  }
 ],
 "metadata": {
  "kernelspec": {
   "display_name": ".venv",
   "language": "python",
   "name": "python3"
  },
  "language_info": {
   "codemirror_mode": {
    "name": "ipython",
    "version": 3
   },
   "file_extension": ".py",
   "mimetype": "text/x-python",
   "name": "python",
   "nbconvert_exporter": "python",
   "pygments_lexer": "ipython3",
   "version": "3.10.10"
  },
  "orig_nbformat": 4
 },
 "nbformat": 4,
 "nbformat_minor": 2
}
