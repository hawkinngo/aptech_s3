{
 "cells": [
  {
   "cell_type": "code",
   "execution_count": 138,
   "metadata": {},
   "outputs": [],
   "source": [
    "import pandas as pd\n",
    "import numpy as np"
   ]
  },
  {
   "cell_type": "code",
   "execution_count": 139,
   "metadata": {},
   "outputs": [],
   "source": [
    "student_list = [\n",
    "    {\"name\": \"Trí Trần\", \"birthday\": \"Mar 13, 2012\", \"mark\": 9},\n",
    "    {\"name\": \"Bảo Nguyễn\", \"birthday\": \"Nov 10, 2012\", \"mark\": 3},\n",
    "    {\"name\": \"Ngọc Nguyễn\", \"birthday\": \"Oct 18, 2012\", \"mark\": 8},\n",
    "    {\"name\": \"Ngọc Nguyễn\", \"birthday\": \"Jul 9, 2012\", \"mark\": 2},\n",
    "    {\"name\": \"Thanh Phạm\", \"birthday\": \"May 11, 2012\", \"mark\": 4},\n",
    "    {\"name\": \"Minh Tiêu\", \"birthday\": \"Jan 7, 2012\", \"mark\": 10},\n",
    "]"
   ]
  },
  {
   "cell_type": "code",
   "execution_count": 140,
   "metadata": {},
   "outputs": [
    {
     "name": "stdout",
     "output_type": "stream",
     "text": [
      "student_dict={('Trí Trần', 'Mar 13, 2012'): 9, ('Bảo Nguyễn', 'Nov 10, 2012'): 3, ('Ngọc Nguyễn', 'Oct 18, 2012'): 8, ('Ngọc Nguyễn', 'Jul 9, 2012'): 2, ('Thanh Phạm', 'May 11, 2012'): 4, ('Minh Tiêu', 'Jan 7, 2012'): 10}\n"
     ]
    }
   ],
   "source": [
    "student_dict = {}\n",
    "\n",
    "for student in student_list:\n",
    "    name = student['name']\n",
    "    birthday = student['birthday']\n",
    "    mark = student['mark']\n",
    "\n",
    "    key = (name, birthday)\n",
    "    student_dict[key] = mark\n",
    "\n",
    "print(f\"{student_dict=}\")"
   ]
  },
  {
   "cell_type": "code",
   "execution_count": 141,
   "metadata": {},
   "outputs": [
    {
     "name": "stdout",
     "output_type": "stream",
     "text": [
      "find_student=8\n"
     ]
    }
   ],
   "source": [
    "name = \"Ngọc Nguyễn\"\n",
    "birthday = \"Oct 18, 2012\"\n",
    "\n",
    "key = (name, birthday)\n",
    "\n",
    "find_student = student_dict.get(key)\n",
    "\n",
    "print(f\"{find_student=}\")"
   ]
  },
  {
   "cell_type": "code",
   "execution_count": 142,
   "metadata": {},
   "outputs": [
    {
     "data": {
      "text/plain": [
       "dict_values([9, 3, 8, 2, 4, 10])"
      ]
     },
     "execution_count": 142,
     "metadata": {},
     "output_type": "execute_result"
    }
   ],
   "source": [
    "student_dict.values()"
   ]
  },
  {
   "cell_type": "code",
   "execution_count": 143,
   "metadata": {},
   "outputs": [
    {
     "name": "stdout",
     "output_type": "stream",
     "text": [
      "total_mark=36\n",
      "total_student=6\n",
      "avg_mark=6.0\n"
     ]
    }
   ],
   "source": [
    "total_mark = 0\n",
    "[total_mark := total_mark + mark for mark in student_dict.values()]\n",
    "total_student = len(student_dict)\n",
    "\n",
    "avg_mark = total_mark / total_student\n",
    "print(f\"{total_mark=}\")\n",
    "print(f\"{total_student=}\")\n",
    "print(f\"{avg_mark=}\")"
   ]
  },
  {
   "cell_type": "code",
   "execution_count": 144,
   "metadata": {},
   "outputs": [
    {
     "data": {
      "text/plain": [
       "dict_items([(('Trí Trần', 'Mar 13, 2012'), 9), (('Bảo Nguyễn', 'Nov 10, 2012'), 3), (('Ngọc Nguyễn', 'Oct 18, 2012'), 8), (('Ngọc Nguyễn', 'Jul 9, 2012'), 2), (('Thanh Phạm', 'May 11, 2012'), 4), (('Minh Tiêu', 'Jan 7, 2012'), 10)])"
      ]
     },
     "execution_count": 144,
     "metadata": {},
     "output_type": "execute_result"
    }
   ],
   "source": [
    "student_dict.items()"
   ]
  },
  {
   "cell_type": "code",
   "execution_count": 145,
   "metadata": {},
   "outputs": [
    {
     "data": {
      "text/plain": [
       "{('Bảo Nguyễn', 'Nov 10, 2012'): 3,\n",
       " ('Minh Tiêu', 'Jan 7, 2012'): 10,\n",
       " ('Ngọc Nguyễn', 'Jul 9, 2012'): 2,\n",
       " ('Ngọc Nguyễn', 'Oct 18, 2012'): 8,\n",
       " ('Thanh Phạm', 'May 11, 2012'): 4,\n",
       " ('Trí Trần', 'Mar 13, 2012'): 9}"
      ]
     },
     "execution_count": 145,
     "metadata": {},
     "output_type": "execute_result"
    }
   ],
   "source": [
    "student_dict = dict(sorted(student_dict.items()))\n",
    "student_dict\n"
   ]
  },
  {
   "cell_type": "code",
   "execution_count": 146,
   "metadata": {},
   "outputs": [
    {
     "data": {
      "text/plain": [
       "[(('Minh Tiêu', 'Jan 7, 2012'), 10),\n",
       " (('Ngọc Nguyễn', 'Oct 18, 2012'), 8),\n",
       " (('Trí Trần', 'Mar 13, 2012'), 9)]"
      ]
     },
     "execution_count": 146,
     "metadata": {},
     "output_type": "execute_result"
    }
   ],
   "source": [
    "student_above_avg = [\n",
    "    (student, student_dict[student]) for student in student_dict if student_dict[student] > avg_mark\n",
    "]\n",
    "student_above_avg"
   ]
  },
  {
   "cell_type": "code",
   "execution_count": 147,
   "metadata": {},
   "outputs": [
    {
     "data": {
      "text/plain": [
       "{('Minh Tiêu', 'Jan 7, 2012'): 10,\n",
       " ('Ngọc Nguyễn', 'Oct 18, 2012'): 8,\n",
       " ('Trí Trần', 'Mar 13, 2012'): 9}"
      ]
     },
     "execution_count": 147,
     "metadata": {},
     "output_type": "execute_result"
    }
   ],
   "source": [
    "student_above_avg2 = {\n",
    "    key: value for key, value in student_dict.items() if value > avg_mark\n",
    "}\n",
    "student_above_avg2"
   ]
  },
  {
   "cell_type": "code",
   "execution_count": 148,
   "metadata": {},
   "outputs": [
    {
     "data": {
      "text/plain": [
       "{('Minh Tiêu', 'Jan 7, 2012'): 10,\n",
       " ('Ngọc Nguyễn', 'Oct 18, 2012'): 8,\n",
       " ('Trí Trần', 'Mar 13, 2012'): 9}"
      ]
     },
     "execution_count": 148,
     "metadata": {},
     "output_type": "execute_result"
    }
   ],
   "source": [
    "def is_above_avg(item_list):\n",
    "    return True if item_list[1]>avg_mark else False\n",
    "\n",
    "\n",
    "filter_student_above_avg = filter(is_above_avg, student_dict.items())\n",
    "\n",
    "dict(filter_student_above_avg)"
   ]
  },
  {
   "cell_type": "code",
   "execution_count": 149,
   "metadata": {},
   "outputs": [
    {
     "data": {
      "text/plain": [
       "{('Minh Tiêu', 'Jan 7, 2012'): 10,\n",
       " ('Ngọc Nguyễn', 'Oct 18, 2012'): 8,\n",
       " ('Trí Trần', 'Mar 13, 2012'): 9}"
      ]
     },
     "execution_count": 149,
     "metadata": {},
     "output_type": "execute_result"
    }
   ],
   "source": [
    "def is_above_avg(item_list):\n",
    "    return True if item_list[1]>avg_mark else False\n",
    "\n",
    "\n",
    "filter_student_above_avg = filter(lambda x: x[1]>avg_mark, student_dict.items())\n",
    "\n",
    "dict(filter_student_above_avg)"
   ]
  },
  {
   "cell_type": "code",
   "execution_count": 150,
   "metadata": {},
   "outputs": [],
   "source": [
    "student_list_2 = [\n",
    "    {\"name\": \"Trí Trần\", \"birthday\": \"Mar 13, 2012\"},\n",
    "    {\"name\": \"Bảo Nguyễn\", \"birthday\": \"Nov 10, 2012\"},\n",
    "    {\"name\": \"Ngọc Nguyễn\", \"birthday\": \"Oct 18, 2012\"},\n",
    "    {\"name\": \"Thanh Phạm\", \"birthday\": \"May 11, 2012\"},\n",
    "    {\"name\": \"Giang Đỗ\", \"birthday\": \"Dec 1, 2012\"},\n",
    "    {\"name\": \"Tú Lê\", \"birthday\": \"Jan 3, 2012\"},\n",
    "    {\"name\": \"Trang Trần\", \"birthday\": \"May 29, 2012\"},\n",
    "    {\"name\": \"Minh Tiêu\", \"birthday\": \"Jan 7, 2012\"},\n",
    "]"
   ]
  },
  {
   "cell_type": "code",
   "execution_count": 151,
   "metadata": {},
   "outputs": [
    {
     "data": {
      "text/plain": [
       "{('Bảo Nguyễn', 'Nov 10, 2012'),\n",
       " ('Giang Đỗ', 'Dec 1, 2012'),\n",
       " ('Minh Tiêu', 'Jan 7, 2012'),\n",
       " ('Ngọc Nguyễn', 'Oct 18, 2012'),\n",
       " ('Thanh Phạm', 'May 11, 2012'),\n",
       " ('Trang Trần', 'May 29, 2012'),\n",
       " ('Trí Trần', 'Mar 13, 2012'),\n",
       " ('Tú Lê', 'Jan 3, 2012')}"
      ]
     },
     "execution_count": 151,
     "metadata": {},
     "output_type": "execute_result"
    }
   ],
   "source": [
    "student_dict_2 = {(student[\"name\"], student[\"birthday\"]) for student in student_list_2}\n",
    "student_dict_2"
   ]
  },
  {
   "cell_type": "code",
   "execution_count": 152,
   "metadata": {},
   "outputs": [
    {
     "data": {
      "text/plain": [
       "{('Bảo Nguyễn', 'Nov 10, 2012'): 3,\n",
       " ('Minh Tiêu', 'Jan 7, 2012'): 10,\n",
       " ('Ngọc Nguyễn', 'Jul 9, 2012'): 2,\n",
       " ('Ngọc Nguyễn', 'Oct 18, 2012'): 8,\n",
       " ('Thanh Phạm', 'May 11, 2012'): 4,\n",
       " ('Trí Trần', 'Mar 13, 2012'): 9}"
      ]
     },
     "execution_count": 152,
     "metadata": {},
     "output_type": "execute_result"
    }
   ],
   "source": [
    "student_dict"
   ]
  },
  {
   "cell_type": "code",
   "execution_count": 153,
   "metadata": {},
   "outputs": [
    {
     "data": {
      "text/plain": [
       "[('Trí Trần', 'Mar 13, 2012'),\n",
       " ('Bảo Nguyễn', 'Nov 10, 2012'),\n",
       " ('Minh Tiêu', 'Jan 7, 2012'),\n",
       " ('Thanh Phạm', 'May 11, 2012'),\n",
       " ('Ngọc Nguyễn', 'Oct 18, 2012')]"
      ]
     },
     "execution_count": 153,
     "metadata": {},
     "output_type": "execute_result"
    }
   ],
   "source": [
    "student_exist = [student for student in student_dict_2 if student in student_dict]\n",
    "student_exist"
   ]
  },
  {
   "cell_type": "code",
   "execution_count": 154,
   "metadata": {},
   "outputs": [
    {
     "data": {
      "text/plain": [
       "[('Giang Đỗ', 'Dec 1, 2012'),\n",
       " ('Tú Lê', 'Jan 3, 2012'),\n",
       " ('Trang Trần', 'May 29, 2012')]"
      ]
     },
     "execution_count": 154,
     "metadata": {},
     "output_type": "execute_result"
    }
   ],
   "source": [
    "student_new = [student for student in student_dict_2 if student not in student_dict]\n",
    "student_new"
   ]
  },
  {
   "cell_type": "code",
   "execution_count": 155,
   "metadata": {},
   "outputs": [
    {
     "data": {
      "text/plain": [
       "[('Ngọc Nguyễn', 'Jul 9, 2012')]"
      ]
     },
     "execution_count": 155,
     "metadata": {},
     "output_type": "execute_result"
    }
   ],
   "source": [
    "student_leave = [student for student in student_dict if student not in student_dict_2]\n",
    "student_leave"
   ]
  }
 ],
 "metadata": {
  "kernelspec": {
   "display_name": ".venv",
   "language": "python",
   "name": "python3"
  },
  "language_info": {
   "codemirror_mode": {
    "name": "ipython",
    "version": 3
   },
   "file_extension": ".py",
   "mimetype": "text/x-python",
   "name": "python",
   "nbconvert_exporter": "python",
   "pygments_lexer": "ipython3",
   "version": "3.10.10"
  },
  "orig_nbformat": 4
 },
 "nbformat": 4,
 "nbformat_minor": 2
}
